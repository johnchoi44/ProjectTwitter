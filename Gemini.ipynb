{
  "nbformat": 4,
  "nbformat_minor": 0,
  "metadata": {
    "colab": {
      "provenance": [],
      "authorship_tag": "ABX9TyN6vKtPcSwUa9MRhEp1I3Rh",
      "include_colab_link": true
    },
    "kernelspec": {
      "name": "python3",
      "display_name": "Python 3"
    },
    "language_info": {
      "name": "python"
    }
  },
  "cells": [
    {
      "cell_type": "markdown",
      "metadata": {
        "id": "view-in-github",
        "colab_type": "text"
      },
      "source": [
        "<a href=\"https://colab.research.google.com/github/johnchoi44/ProjectTwitter/blob/main/Gemini.ipynb\" target=\"_parent\"><img src=\"https://colab.research.google.com/assets/colab-badge.svg\" alt=\"Open In Colab\"/></a>"
      ]
    },
    {
      "cell_type": "code",
      "execution_count": 2,
      "metadata": {
        "colab": {
          "base_uri": "https://localhost:8080/"
        },
        "id": "5mT58eWs8KsN",
        "outputId": "5a039752-7d96-4fae-8139-3247780a063a"
      },
      "outputs": [
        {
          "output_type": "stream",
          "name": "stdout",
          "text": [
            "Mounted at /content/drive\n"
          ]
        }
      ],
      "source": [
        "# connect to Google Drive\n",
        "\n",
        "from google.colab import drive\n",
        "drive.mount('/content/drive')"
      ]
    },
    {
      "cell_type": "code",
      "source": [
        "cd drive/MyDrive/Lawyers/Gemini/"
      ],
      "metadata": {
        "colab": {
          "base_uri": "https://localhost:8080/"
        },
        "id": "mkwikCRV8O2c",
        "outputId": "ee3f2a48-3801-4ac1-f07e-37841dd69ce6"
      },
      "execution_count": 13,
      "outputs": [
        {
          "output_type": "stream",
          "name": "stdout",
          "text": [
            "/content/drive/MyDrive/Lawyers/Gemini\n"
          ]
        }
      ]
    },
    {
      "cell_type": "code",
      "source": [
        "pip install -q -U google-genai"
      ],
      "metadata": {
        "id": "EafksYFg8SpW"
      },
      "execution_count": 15,
      "outputs": []
    },
    {
      "cell_type": "code",
      "source": [
        "# import dependencies\n",
        "\n",
        "from google import genai\n",
        "import pandas as pd\n",
        "import json\n",
        "import ast\n",
        "import re\n",
        "from openpyxl import load_workbook\n",
        "\n",
        "from datetime import datetime\n",
        "from google.api_core.exceptions import ClientError"
      ],
      "metadata": {
        "id": "_kV-qKiJ8XvC"
      },
      "execution_count": 22,
      "outputs": []
    },
    {
      "cell_type": "code",
      "source": [
        "# input your API Key for gemini\n",
        "\n",
        "client = genai.Client(api_key=\"Your Key\")"
      ],
      "metadata": {
        "id": "tAi0Hn8t-VfS"
      },
      "execution_count": 17,
      "outputs": []
    },
    {
      "cell_type": "code",
      "source": [
        "# first move the excel file to the path\n",
        "\n",
        "com = \"Cooley\" # change this\n",
        "# open excel file\n",
        "path = \"/content/drive/MyDrive/Lawyers/Gemini/{}/{}.xlsx\".format(com, com)\n",
        "df = pd.read_excel(path)\n",
        "try:\n",
        "  lawfirm = df[\"Lawfirm\"].tolist()\n",
        "except:\n",
        "  pass"
      ],
      "metadata": {
        "id": "_x2P-ijQ9xSi"
      },
      "execution_count": 18,
      "outputs": []
    },
    {
      "cell_type": "code",
      "source": [
        "edu = df['Education']"
      ],
      "metadata": {
        "id": "FoV-XxY8-ZAs"
      },
      "execution_count": 19,
      "outputs": []
    },
    {
      "cell_type": "code",
      "source": [
        "prompt = \"Convert the following education history into a Python dictionary with integer keys starting from 0. Each value should be a nested dictionary that includes fields such as school, year, degree, major (if available), and honors (if mentioned). Format the output as valid Python with no extra text or explanation.\""
      ],
      "metadata": {
        "id": "hsckEqJ2AEeG"
      },
      "execution_count": 20,
      "outputs": []
    },
    {
      "cell_type": "code",
      "source": [
        "# file paths\n",
        "checkpoint_file = \"edu_checkpoint.json\"\n",
        "\n",
        "# function to extract the dictionary block from LLM response\n",
        "def extract_dict_from_markdown(response_text):\n",
        "    match = re.search(r\"```(?:python)?(.*?)```\", response_text, re.DOTALL)\n",
        "    if match:\n",
        "        code_block = match.group(1).strip()\n",
        "        # Remove any variable assignment like: education_history = {\n",
        "        if '=' in code_block:\n",
        "            code_block = code_block.split('=', 1)[1].strip()\n",
        "        return ast.literal_eval(code_block)\n",
        "    else:\n",
        "        raise ValueError(\"No Python dictionary block found in the response.\")\n",
        "\n",
        "# load checkpoint if exists\n",
        "def load_checkpoint():\n",
        "  try:\n",
        "    with open(checkpoint_file, 'r') as f:\n",
        "      return json.load(f)\n",
        "  except FileNotFoundError:\n",
        "    return {\"last_index\": 0}\n",
        "\n",
        "def save_checkpoint(index, error_msg=None):\n",
        "  data = {\"last_index\": index}\n",
        "  if error_msg:\n",
        "    data[\"error_time\"] = datetime.now().isoformat()\n",
        "    data[\"error_msg\"] = error_msg\n",
        "  with open(checkpoint_file, 'w') as f:\n",
        "    json.dump(data, f, indent=2)\n"
      ],
      "metadata": {
        "id": "IXPr-eTkBrG8"
      },
      "execution_count": 24,
      "outputs": []
    },
    {
      "cell_type": "code",
      "source": [
        "wb = load_workbook(path)\n",
        "ws = wb.active\n",
        "last_col = ws.max_column + 1\n",
        "# r = 2\n",
        "first = True"
      ],
      "metadata": {
        "id": "3e9jaWOfHFpf"
      },
      "execution_count": 25,
      "outputs": []
    },
    {
      "cell_type": "code",
      "source": [
        "checkpoint = load_checkpoint()\n",
        "start_index = checkpoint[\"last_index\"]\n",
        "\n",
        "for idx in range(start_index, len(edu)):\n",
        "  i = edu[idx]\n",
        "\n",
        "  # skip if i is NaN or empty\n",
        "  if not isinstance(i, str) or i.strip() == \"\" or str(i).lower() == \"nan\":\n",
        "    print(f\"Skipping empty entry at index {idx}\")\n",
        "    save_checkpoint(idx + 1)\n",
        "    continue\n",
        "\n",
        "  try:\n",
        "    response = client.models.generate_content(\n",
        "      model=\"gemini-2.0-flash\",\n",
        "      contents=str(i)+prompt\n",
        "      )\n",
        "    education_data = extract_dict_from_markdown(response.text)\n",
        "    flattened = {}\n",
        "    for key, value in education_data.items():\n",
        "      for sub_key, sub_val in value.items():\n",
        "        flattened[f\"{key}_{sub_key}\"] = sub_val\n",
        "\n",
        "    if first:\n",
        "      for j, col_name in enumerate(flattened.keys(), start=last_col):\n",
        "        ws.cell(row=1, column=j, value=col_name)\n",
        "      first = False\n",
        "\n",
        "    for j, value in enumerate(flattened.values(), start=last_col):\n",
        "      if isinstance(value,list):\n",
        "        value = \", \".join(str(v) for v in value)\n",
        "      ws.cell(row=idx + 2, column=j, value=value)\n",
        "\n",
        "    # save workbook and checkpoint after each entry\n",
        "    wb.save(path)\n",
        "    save_checkpoint(idx + 1)\n",
        "\n",
        "  except ClientError as e:\n",
        "    if \"RESOURCE_EXHAUSTED\" in str(e):\n",
        "      print(f\"Quota error at index {idx}: {e}\")\n",
        "      save_checkpoint(idx, error_msg=str(e))\n",
        "      break\n",
        "    else:\n",
        "      print(f\"ClientError on entry '{i}': {e}\")\n",
        "      raise\n",
        "\n",
        "  except Exception as e:\n",
        "    print(f\"Error on entry '{i}': {e}\")\n",
        "    break\n",
        "\n",
        "  wb.save(path)"
      ],
      "metadata": {
        "colab": {
          "base_uri": "https://localhost:8080/"
        },
        "id": "-Hv8TRuCDt_3",
        "outputId": "3c5ba65e-83d2-4879-b788-bd57b29353ae"
      },
      "execution_count": 30,
      "outputs": [
        {
          "output_type": "stream",
          "name": "stdout",
          "text": [
            "Skipping empty entry at index 17\n",
            "Skipping empty entry at index 22\n",
            "Error on entry '\n",
            "                            Education\n",
            "\n",
            "                                    \n",
            "            University of Michigan Law School\n",
            "                \n",
            "JD, 2022, cum laude        \n",
            "        \n",
            "            Bowdoin College\n",
            "                \n",
            "BA, 2017, Government and Legal Studies, History        \n",
            "\n",
            "\n",
            "                        ': 429 RESOURCE_EXHAUSTED. {'error': {'code': 429, 'message': 'You exceeded your current quota, please check your plan and billing details. For more information on this error, head to: https://ai.google.dev/gemini-api/docs/rate-limits.', 'status': 'RESOURCE_EXHAUSTED', 'details': [{'@type': 'type.googleapis.com/google.rpc.QuotaFailure', 'violations': [{'quotaMetric': 'generativelanguage.googleapis.com/generate_content_free_tier_requests', 'quotaId': 'GenerateRequestsPerMinutePerProjectPerModel-FreeTier', 'quotaDimensions': {'location': 'global', 'model': 'gemini-2.0-flash'}, 'quotaValue': '15'}]}, {'@type': 'type.googleapis.com/google.rpc.Help', 'links': [{'description': 'Learn more about Gemini API quotas', 'url': 'https://ai.google.dev/gemini-api/docs/rate-limits'}]}, {'@type': 'type.googleapis.com/google.rpc.RetryInfo', 'retryDelay': '58s'}]}}\n"
          ]
        }
      ]
    }
  ]
}